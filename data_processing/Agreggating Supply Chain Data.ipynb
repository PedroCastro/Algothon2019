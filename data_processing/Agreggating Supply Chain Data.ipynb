{
 "cells": [
  {
   "cell_type": "code",
   "execution_count": 1,
   "metadata": {},
   "outputs": [],
   "source": [
    "import numpy as np\n",
    "import tqdm\n",
    "import pandas as pd"
   ]
  },
  {
   "cell_type": "code",
   "execution_count": 2,
   "metadata": {},
   "outputs": [],
   "source": [
    "supplychain = pd.read_csv(\"../assets/global_supplychain.csv\")\n",
    "supplychain[\"accounting_as_of_date\"] = pd.to_datetime(supplychain.accounting_as_of_date)\n",
    "\n",
    "# supplychain[\"accounting_as_of_date\"] = supplychain[\"accounting_as_of_date\"].dt.strftime('%m/%Y')\n",
    "# supplychain.drop_duplicates(subset=[\"accounting_as_of_date\", \"supplier_ticker\", \"customer_ticker\"], keep='first', inplace=True)"
   ]
  },
  {
   "cell_type": "code",
   "execution_count": 3,
   "metadata": {},
   "outputs": [
    {
     "name": "stdout",
     "output_type": "stream",
     "text": [
      "<class 'pandas.core.frame.DataFrame'>\n",
      "RangeIndex: 3074589 entries, 0 to 3074588\n",
      "Data columns (total 9 columns):\n",
      "Unnamed: 0                       int64\n",
      "public_domain_date               object\n",
      "accounting_as_of_date            datetime64[ns]\n",
      "supplier_exchange                object\n",
      "supplier_ticker                  object\n",
      "customer_exchange                object\n",
      "customer_ticker                  object\n",
      "revenue_dependency               float64\n",
      "revenue_dependency_annotation    object\n",
      "dtypes: datetime64[ns](1), float64(1), int64(1), object(6)\n",
      "memory usage: 140.7+ MB\n"
     ]
    }
   ],
   "source": [
    "supplychain.info()\n"
   ]
  },
  {
   "cell_type": "code",
   "execution_count": 4,
   "metadata": {},
   "outputs": [
    {
     "name": "stdout",
     "output_type": "stream",
     "text": [
      "<class 'pandas.core.frame.DataFrame'>\n",
      "Int64Index: 4467840 entries, 0 to 13171391\n",
      "Data columns (total 6 columns):\n",
      "Date         datetime64[ns]\n",
      "ticker       object\n",
      "adj_close    float64\n",
      "mom          float64\n",
      "MACD         float64\n",
      "vol          float64\n",
      "dtypes: datetime64[ns](1), float64(4), object(1)\n",
      "memory usage: 221.6+ MB\n"
     ]
    }
   ],
   "source": [
    "stock_market = pd.read_pickle(\"../assets/filtered_us_eod.pkl\")\n",
    "stock_market = stock_market.drop([\"Date.1\"], axis=1)\n",
    "stock_market[\"Date\"] = pd.to_datetime(stock_market.Date)\n",
    "stock_market.info()"
   ]
  },
  {
   "cell_type": "code",
   "execution_count": 5,
   "metadata": {},
   "outputs": [],
   "source": [
    "# stock_market[\"Date\"] = pd.to_datetime(stock_market.Date)\n",
    "# stock_market[\"Date\"] = stock_market[\"Date\"].dt.strftime('%m/%Y')\n",
    "# stock_market.drop_duplicates(subset=[\"Date\", \"ticker\"], keep='first', inplace=True)"
   ]
  },
  {
   "cell_type": "code",
   "execution_count": 6,
   "metadata": {},
   "outputs": [
    {
     "data": {
      "text/html": [
       "<div>\n",
       "<style scoped>\n",
       "    .dataframe tbody tr th:only-of-type {\n",
       "        vertical-align: middle;\n",
       "    }\n",
       "\n",
       "    .dataframe tbody tr th {\n",
       "        vertical-align: top;\n",
       "    }\n",
       "\n",
       "    .dataframe thead th {\n",
       "        text-align: right;\n",
       "    }\n",
       "</style>\n",
       "<table border=\"1\" class=\"dataframe\">\n",
       "  <thead>\n",
       "    <tr style=\"text-align: right;\">\n",
       "      <th></th>\n",
       "      <th>Date</th>\n",
       "      <th>ticker</th>\n",
       "      <th>adj_close</th>\n",
       "      <th>mom</th>\n",
       "      <th>MACD</th>\n",
       "      <th>vol</th>\n",
       "    </tr>\n",
       "  </thead>\n",
       "  <tbody>\n",
       "    <tr>\n",
       "      <th>0</th>\n",
       "      <td>2010-01-01</td>\n",
       "      <td>A</td>\n",
       "      <td>20.822542</td>\n",
       "      <td>5.517390</td>\n",
       "      <td>3.395021</td>\n",
       "      <td>0.000097</td>\n",
       "    </tr>\n",
       "    <tr>\n",
       "      <th>1</th>\n",
       "      <td>2010-01-04</td>\n",
       "      <td>A</td>\n",
       "      <td>20.976683</td>\n",
       "      <td>5.344631</td>\n",
       "      <td>3.421450</td>\n",
       "      <td>0.000094</td>\n",
       "    </tr>\n",
       "    <tr>\n",
       "      <th>2</th>\n",
       "      <td>2010-01-05</td>\n",
       "      <td>A</td>\n",
       "      <td>20.748822</td>\n",
       "      <td>4.587213</td>\n",
       "      <td>3.431355</td>\n",
       "      <td>0.000100</td>\n",
       "    </tr>\n",
       "    <tr>\n",
       "      <th>3</th>\n",
       "      <td>2010-01-06</td>\n",
       "      <td>A</td>\n",
       "      <td>20.675102</td>\n",
       "      <td>4.223339</td>\n",
       "      <td>3.434483</td>\n",
       "      <td>0.000098</td>\n",
       "    </tr>\n",
       "    <tr>\n",
       "      <th>4</th>\n",
       "      <td>2010-01-07</td>\n",
       "      <td>A</td>\n",
       "      <td>20.648294</td>\n",
       "      <td>4.011330</td>\n",
       "      <td>3.433929</td>\n",
       "      <td>0.000098</td>\n",
       "    </tr>\n",
       "    <tr>\n",
       "      <th>...</th>\n",
       "      <td>...</td>\n",
       "      <td>...</td>\n",
       "      <td>...</td>\n",
       "      <td>...</td>\n",
       "      <td>...</td>\n",
       "      <td>...</td>\n",
       "    </tr>\n",
       "    <tr>\n",
       "      <th>13171387</th>\n",
       "      <td>2019-10-14</td>\n",
       "      <td>ZIXI</td>\n",
       "      <td>6.750000</td>\n",
       "      <td>-3.205437</td>\n",
       "      <td>-0.218251</td>\n",
       "      <td>0.000565</td>\n",
       "    </tr>\n",
       "    <tr>\n",
       "      <th>13171388</th>\n",
       "      <td>2019-10-15</td>\n",
       "      <td>ZIXI</td>\n",
       "      <td>6.865000</td>\n",
       "      <td>-2.722324</td>\n",
       "      <td>-0.243142</td>\n",
       "      <td>0.000575</td>\n",
       "    </tr>\n",
       "    <tr>\n",
       "      <th>13171389</th>\n",
       "      <td>2019-10-16</td>\n",
       "      <td>ZIXI</td>\n",
       "      <td>6.650000</td>\n",
       "      <td>-3.055404</td>\n",
       "      <td>-0.278275</td>\n",
       "      <td>0.000600</td>\n",
       "    </tr>\n",
       "    <tr>\n",
       "      <th>13171390</th>\n",
       "      <td>2019-10-17</td>\n",
       "      <td>ZIXI</td>\n",
       "      <td>6.650000</td>\n",
       "      <td>-2.862559</td>\n",
       "      <td>-0.310736</td>\n",
       "      <td>0.000588</td>\n",
       "    </tr>\n",
       "    <tr>\n",
       "      <th>13171391</th>\n",
       "      <td>2019-10-18</td>\n",
       "      <td>ZIXI</td>\n",
       "      <td>6.410000</td>\n",
       "      <td>-3.141416</td>\n",
       "      <td>-0.354272</td>\n",
       "      <td>0.000618</td>\n",
       "    </tr>\n",
       "  </tbody>\n",
       "</table>\n",
       "<p>4467840 rows × 6 columns</p>\n",
       "</div>"
      ],
      "text/plain": [
       "               Date ticker  adj_close       mom      MACD       vol\n",
       "0        2010-01-01      A  20.822542  5.517390  3.395021  0.000097\n",
       "1        2010-01-04      A  20.976683  5.344631  3.421450  0.000094\n",
       "2        2010-01-05      A  20.748822  4.587213  3.431355  0.000100\n",
       "3        2010-01-06      A  20.675102  4.223339  3.434483  0.000098\n",
       "4        2010-01-07      A  20.648294  4.011330  3.433929  0.000098\n",
       "...             ...    ...        ...       ...       ...       ...\n",
       "13171387 2019-10-14   ZIXI   6.750000 -3.205437 -0.218251  0.000565\n",
       "13171388 2019-10-15   ZIXI   6.865000 -2.722324 -0.243142  0.000575\n",
       "13171389 2019-10-16   ZIXI   6.650000 -3.055404 -0.278275  0.000600\n",
       "13171390 2019-10-17   ZIXI   6.650000 -2.862559 -0.310736  0.000588\n",
       "13171391 2019-10-18   ZIXI   6.410000 -3.141416 -0.354272  0.000618\n",
       "\n",
       "[4467840 rows x 6 columns]"
      ]
     },
     "execution_count": 6,
     "metadata": {},
     "output_type": "execute_result"
    }
   ],
   "source": [
    "stock_market"
   ]
  },
  {
   "cell_type": "code",
   "execution_count": 7,
   "metadata": {},
   "outputs": [
    {
     "name": "stdout",
     "output_type": "stream",
     "text": [
      "23854\n",
      "19313\n",
      "7974\n"
     ]
    }
   ],
   "source": [
    "# check overlapping\n",
    "\n",
    "companies = list(set(stock_market[\"ticker\"].values.tolist())) # get rid of date\n",
    "customers = supplychain[\"customer_ticker\"].values.tolist()\n",
    "suppliers = supplychain[\"supplier_ticker\"].values.tolist()\n",
    "\n",
    "\n",
    "customer_suppliers = customers + suppliers\n",
    "customer_suppliers = set(customer_suppliers)\n",
    "print(len(customer_suppliers))\n",
    "print(len(set(customers)))\n",
    "print(len(set(suppliers)))\n",
    "# customers = np.sort(customers)\n",
    "# suppliers = np.sort(suppliers)"
   ]
  },
  {
   "cell_type": "code",
   "execution_count": 8,
   "metadata": {},
   "outputs": [
    {
     "name": "stderr",
     "output_type": "stream",
     "text": [
      "100%|████████████████████████████████████████████████████████████████████████████████████████████████████████████████████████████████████████████████████████████████████████████████████████████████████████████████████████████████████████████████████████████████████████████████████████████| 1790/1790 [00:00<00:00, 897525.90it/s]\n"
     ]
    },
    {
     "name": "stdout",
     "output_type": "stream",
     "text": [
      "1790\n"
     ]
    },
    {
     "name": "stderr",
     "output_type": "stream",
     "text": [
      "100%|███████████████████████████████████████████████████████████████████████████████████████████████████████████████████████████████████████████████████████████████████████████████████████████████████████████████████████████████████████████████████████████████████████████████████████████| 1790/1790 [00:00<00:00, 1800864.51it/s]\n"
     ]
    },
    {
     "name": "stdout",
     "output_type": "stream",
     "text": [
      "933\n"
     ]
    },
    {
     "name": "stderr",
     "output_type": "stream",
     "text": [
      "100%|████████████████████████████████████████████████████████████████████████████████████████████████████████████████████████████████████████████████████████████████████████████████████████████████████████████████████████████████████████████████████████████████████████████████████████████| 1790/1790 [00:00<00:00, 897096.92it/s]\n"
     ]
    },
    {
     "name": "stdout",
     "output_type": "stream",
     "text": [
      "1403\n"
     ]
    }
   ],
   "source": [
    "# calculate overlaps\n",
    "\n",
    "overlap = [x for x in tqdm.tqdm(companies) if x in customer_suppliers]\n",
    "print(len(overlap))\n",
    "set_customers = set(customers)\n",
    "set_suppliers = set(suppliers)\n",
    "overlap_customers = [x for x in tqdm.tqdm(companies) if x in set_customers]\n",
    "print(len(overlap_customers))\n",
    "overlap_suppliers = [x for x in tqdm.tqdm(companies) if x in set_suppliers]\n",
    "print(len(overlap_suppliers))"
   ]
  },
  {
   "cell_type": "code",
   "execution_count": 9,
   "metadata": {},
   "outputs": [
    {
     "name": "stdout",
     "output_type": "stream",
     "text": [
      "Before(Market): (4467840, 6)\n",
      "(4467840, 6)\n",
      "After(Market): (4467840, 6)\n",
      "Before(Supply Chain): (3074589, 9)\n",
      "After(Supply Chain): (336934, 9)\n"
     ]
    }
   ],
   "source": [
    "# remove non overlapped on stock market\n",
    "non_overlapping_companies = [x for x in companies if x not in overlap]\n",
    "# print(len(non_overlapping_companies))\n",
    "\n",
    "print(\"Before(Market):\", stock_market.shape)\n",
    "stock_market_updated = stock_market.drop(non_overlapping_companies, axis=1)\n",
    "print(stock_market_updated.shape)\n",
    "print(\"After(Market):\", stock_market_updated.shape)\n",
    "\n",
    "# remove non overlapped on supply chain\n",
    "\n",
    "print(\"Before(Supply Chain):\", supplychain.shape)\n",
    "supplychain_updated = supplychain[supplychain.supplier_ticker.isin(overlap_suppliers)]\n",
    "supplychain_updated = supplychain_updated[supplychain_updated.customer_ticker.isin(overlap_customers)]\n",
    "print(\"After(Supply Chain):\", supplychain_updated.shape)"
   ]
  },
  {
   "cell_type": "code",
   "execution_count": 10,
   "metadata": {},
   "outputs": [],
   "source": [
    "with open('../assets/overlapping_companies.txt', 'w') as f:\n",
    "    for item in overlap:\n",
    "        f.write(\"%s\\n\" % item)"
   ]
  },
  {
   "cell_type": "code",
   "execution_count": 11,
   "metadata": {},
   "outputs": [
    {
     "ename": "MemoryError",
     "evalue": "Unable to allocate array with shape (4, 4467840) and data type float64",
     "output_type": "error",
     "traceback": [
      "\u001b[1;31m---------------------------------------------------------------------------\u001b[0m",
      "\u001b[1;31mMemoryError\u001b[0m                               Traceback (most recent call last)",
      "\u001b[1;32m<ipython-input-11-5413a6d40155>\u001b[0m in \u001b[0;36m<module>\u001b[1;34m\u001b[0m\n\u001b[1;32m----> 1\u001b[1;33m \u001b[0mstock_market_updated\u001b[0m\u001b[1;33m.\u001b[0m\u001b[0mset_index\u001b[0m\u001b[1;33m(\u001b[0m\u001b[1;34m\"Date\"\u001b[0m\u001b[1;33m)\u001b[0m\u001b[1;33m\u001b[0m\u001b[1;33m\u001b[0m\u001b[0m\n\u001b[0m\u001b[0;32m      2\u001b[0m \u001b[0mstock_market_updated\u001b[0m\u001b[1;33m\u001b[0m\u001b[1;33m\u001b[0m\u001b[0m\n",
      "\u001b[1;32mc:\\users\\pcastro\\appdata\\local\\programs\\python\\python37-32\\lib\\site-packages\\pandas\\core\\frame.py\u001b[0m in \u001b[0;36mset_index\u001b[1;34m(self, keys, drop, append, inplace, verify_integrity)\u001b[0m\n\u001b[0;32m   4414\u001b[0m             \u001b[0mframe\u001b[0m \u001b[1;33m=\u001b[0m \u001b[0mself\u001b[0m\u001b[1;33m\u001b[0m\u001b[1;33m\u001b[0m\u001b[0m\n\u001b[0;32m   4415\u001b[0m         \u001b[1;32melse\u001b[0m\u001b[1;33m:\u001b[0m\u001b[1;33m\u001b[0m\u001b[1;33m\u001b[0m\u001b[0m\n\u001b[1;32m-> 4416\u001b[1;33m             \u001b[0mframe\u001b[0m \u001b[1;33m=\u001b[0m \u001b[0mself\u001b[0m\u001b[1;33m.\u001b[0m\u001b[0mcopy\u001b[0m\u001b[1;33m(\u001b[0m\u001b[1;33m)\u001b[0m\u001b[1;33m\u001b[0m\u001b[1;33m\u001b[0m\u001b[0m\n\u001b[0m\u001b[0;32m   4417\u001b[0m \u001b[1;33m\u001b[0m\u001b[0m\n\u001b[0;32m   4418\u001b[0m         \u001b[0marrays\u001b[0m \u001b[1;33m=\u001b[0m \u001b[1;33m[\u001b[0m\u001b[1;33m]\u001b[0m\u001b[1;33m\u001b[0m\u001b[1;33m\u001b[0m\u001b[0m\n",
      "\u001b[1;32mc:\\users\\pcastro\\appdata\\local\\programs\\python\\python37-32\\lib\\site-packages\\pandas\\core\\generic.py\u001b[0m in \u001b[0;36mcopy\u001b[1;34m(self, deep)\u001b[0m\n\u001b[0;32m   5994\u001b[0m         \u001b[0mdtype\u001b[0m\u001b[1;33m:\u001b[0m \u001b[0mobject\u001b[0m\u001b[1;33m\u001b[0m\u001b[1;33m\u001b[0m\u001b[0m\n\u001b[0;32m   5995\u001b[0m         \"\"\"\n\u001b[1;32m-> 5996\u001b[1;33m         \u001b[0mdata\u001b[0m \u001b[1;33m=\u001b[0m \u001b[0mself\u001b[0m\u001b[1;33m.\u001b[0m\u001b[0m_data\u001b[0m\u001b[1;33m.\u001b[0m\u001b[0mcopy\u001b[0m\u001b[1;33m(\u001b[0m\u001b[0mdeep\u001b[0m\u001b[1;33m=\u001b[0m\u001b[0mdeep\u001b[0m\u001b[1;33m)\u001b[0m\u001b[1;33m\u001b[0m\u001b[1;33m\u001b[0m\u001b[0m\n\u001b[0m\u001b[0;32m   5997\u001b[0m         \u001b[1;32mreturn\u001b[0m \u001b[0mself\u001b[0m\u001b[1;33m.\u001b[0m\u001b[0m_constructor\u001b[0m\u001b[1;33m(\u001b[0m\u001b[0mdata\u001b[0m\u001b[1;33m)\u001b[0m\u001b[1;33m.\u001b[0m\u001b[0m__finalize__\u001b[0m\u001b[1;33m(\u001b[0m\u001b[0mself\u001b[0m\u001b[1;33m)\u001b[0m\u001b[1;33m\u001b[0m\u001b[1;33m\u001b[0m\u001b[0m\n\u001b[0;32m   5998\u001b[0m \u001b[1;33m\u001b[0m\u001b[0m\n",
      "\u001b[1;32mc:\\users\\pcastro\\appdata\\local\\programs\\python\\python37-32\\lib\\site-packages\\pandas\\core\\internals\\managers.py\u001b[0m in \u001b[0;36mcopy\u001b[1;34m(self, deep)\u001b[0m\n\u001b[0;32m    786\u001b[0m         \u001b[1;32melse\u001b[0m\u001b[1;33m:\u001b[0m\u001b[1;33m\u001b[0m\u001b[1;33m\u001b[0m\u001b[0m\n\u001b[0;32m    787\u001b[0m             \u001b[0mnew_axes\u001b[0m \u001b[1;33m=\u001b[0m \u001b[0mlist\u001b[0m\u001b[1;33m(\u001b[0m\u001b[0mself\u001b[0m\u001b[1;33m.\u001b[0m\u001b[0maxes\u001b[0m\u001b[1;33m)\u001b[0m\u001b[1;33m\u001b[0m\u001b[1;33m\u001b[0m\u001b[0m\n\u001b[1;32m--> 788\u001b[1;33m         \u001b[1;32mreturn\u001b[0m \u001b[0mself\u001b[0m\u001b[1;33m.\u001b[0m\u001b[0mapply\u001b[0m\u001b[1;33m(\u001b[0m\u001b[1;34m\"copy\"\u001b[0m\u001b[1;33m,\u001b[0m \u001b[0maxes\u001b[0m\u001b[1;33m=\u001b[0m\u001b[0mnew_axes\u001b[0m\u001b[1;33m,\u001b[0m \u001b[0mdeep\u001b[0m\u001b[1;33m=\u001b[0m\u001b[0mdeep\u001b[0m\u001b[1;33m,\u001b[0m \u001b[0mdo_integrity_check\u001b[0m\u001b[1;33m=\u001b[0m\u001b[1;32mFalse\u001b[0m\u001b[1;33m)\u001b[0m\u001b[1;33m\u001b[0m\u001b[1;33m\u001b[0m\u001b[0m\n\u001b[0m\u001b[0;32m    789\u001b[0m \u001b[1;33m\u001b[0m\u001b[0m\n\u001b[0;32m    790\u001b[0m     \u001b[1;32mdef\u001b[0m \u001b[0mas_array\u001b[0m\u001b[1;33m(\u001b[0m\u001b[0mself\u001b[0m\u001b[1;33m,\u001b[0m \u001b[0mtranspose\u001b[0m\u001b[1;33m=\u001b[0m\u001b[1;32mFalse\u001b[0m\u001b[1;33m,\u001b[0m \u001b[0mitems\u001b[0m\u001b[1;33m=\u001b[0m\u001b[1;32mNone\u001b[0m\u001b[1;33m)\u001b[0m\u001b[1;33m:\u001b[0m\u001b[1;33m\u001b[0m\u001b[1;33m\u001b[0m\u001b[0m\n",
      "\u001b[1;32mc:\\users\\pcastro\\appdata\\local\\programs\\python\\python37-32\\lib\\site-packages\\pandas\\core\\internals\\managers.py\u001b[0m in \u001b[0;36mapply\u001b[1;34m(self, f, axes, filter, do_integrity_check, consolidate, **kwargs)\u001b[0m\n\u001b[0;32m    436\u001b[0m                     \u001b[0mkwargs\u001b[0m\u001b[1;33m[\u001b[0m\u001b[0mk\u001b[0m\u001b[1;33m]\u001b[0m \u001b[1;33m=\u001b[0m \u001b[0mobj\u001b[0m\u001b[1;33m.\u001b[0m\u001b[0mreindex\u001b[0m\u001b[1;33m(\u001b[0m\u001b[0mb_items\u001b[0m\u001b[1;33m,\u001b[0m \u001b[0maxis\u001b[0m\u001b[1;33m=\u001b[0m\u001b[0maxis\u001b[0m\u001b[1;33m,\u001b[0m \u001b[0mcopy\u001b[0m\u001b[1;33m=\u001b[0m\u001b[0malign_copy\u001b[0m\u001b[1;33m)\u001b[0m\u001b[1;33m\u001b[0m\u001b[1;33m\u001b[0m\u001b[0m\n\u001b[0;32m    437\u001b[0m \u001b[1;33m\u001b[0m\u001b[0m\n\u001b[1;32m--> 438\u001b[1;33m             \u001b[0mapplied\u001b[0m \u001b[1;33m=\u001b[0m \u001b[0mgetattr\u001b[0m\u001b[1;33m(\u001b[0m\u001b[0mb\u001b[0m\u001b[1;33m,\u001b[0m \u001b[0mf\u001b[0m\u001b[1;33m)\u001b[0m\u001b[1;33m(\u001b[0m\u001b[1;33m**\u001b[0m\u001b[0mkwargs\u001b[0m\u001b[1;33m)\u001b[0m\u001b[1;33m\u001b[0m\u001b[1;33m\u001b[0m\u001b[0m\n\u001b[0m\u001b[0;32m    439\u001b[0m             \u001b[0mresult_blocks\u001b[0m \u001b[1;33m=\u001b[0m \u001b[0m_extend_blocks\u001b[0m\u001b[1;33m(\u001b[0m\u001b[0mapplied\u001b[0m\u001b[1;33m,\u001b[0m \u001b[0mresult_blocks\u001b[0m\u001b[1;33m)\u001b[0m\u001b[1;33m\u001b[0m\u001b[1;33m\u001b[0m\u001b[0m\n\u001b[0;32m    440\u001b[0m \u001b[1;33m\u001b[0m\u001b[0m\n",
      "\u001b[1;32mc:\\users\\pcastro\\appdata\\local\\programs\\python\\python37-32\\lib\\site-packages\\pandas\\core\\internals\\blocks.py\u001b[0m in \u001b[0;36mcopy\u001b[1;34m(self, deep)\u001b[0m\n\u001b[0;32m    769\u001b[0m         \u001b[0mvalues\u001b[0m \u001b[1;33m=\u001b[0m \u001b[0mself\u001b[0m\u001b[1;33m.\u001b[0m\u001b[0mvalues\u001b[0m\u001b[1;33m\u001b[0m\u001b[1;33m\u001b[0m\u001b[0m\n\u001b[0;32m    770\u001b[0m         \u001b[1;32mif\u001b[0m \u001b[0mdeep\u001b[0m\u001b[1;33m:\u001b[0m\u001b[1;33m\u001b[0m\u001b[1;33m\u001b[0m\u001b[0m\n\u001b[1;32m--> 771\u001b[1;33m             \u001b[0mvalues\u001b[0m \u001b[1;33m=\u001b[0m \u001b[0mvalues\u001b[0m\u001b[1;33m.\u001b[0m\u001b[0mcopy\u001b[0m\u001b[1;33m(\u001b[0m\u001b[1;33m)\u001b[0m\u001b[1;33m\u001b[0m\u001b[1;33m\u001b[0m\u001b[0m\n\u001b[0m\u001b[0;32m    772\u001b[0m         \u001b[1;32mreturn\u001b[0m \u001b[0mself\u001b[0m\u001b[1;33m.\u001b[0m\u001b[0mmake_block_same_class\u001b[0m\u001b[1;33m(\u001b[0m\u001b[0mvalues\u001b[0m\u001b[1;33m,\u001b[0m \u001b[0mndim\u001b[0m\u001b[1;33m=\u001b[0m\u001b[0mself\u001b[0m\u001b[1;33m.\u001b[0m\u001b[0mndim\u001b[0m\u001b[1;33m)\u001b[0m\u001b[1;33m\u001b[0m\u001b[1;33m\u001b[0m\u001b[0m\n\u001b[0;32m    773\u001b[0m \u001b[1;33m\u001b[0m\u001b[0m\n",
      "\u001b[1;31mMemoryError\u001b[0m: Unable to allocate array with shape (4, 4467840) and data type float64"
     ]
    }
   ],
   "source": [
    "stock_market_updated.set_index(\"Date\")\n",
    "stock_market_updated"
   ]
  },
  {
   "cell_type": "code",
   "execution_count": null,
   "metadata": {},
   "outputs": [],
   "source": [
    "supplychain_updated.set_index(\"accounting_as_of_date\")\n",
    "supplychain_updated = supplychain_updated[supplychain_updated[\"accounting_as_of_date\"] >= stock_market_updated[\"Date\"].min()]\n",
    "supplychain_updated = supplychain_updated.drop(\"Unnamed: 0\", axis=1)\n",
    "supplychain_updated.drop_duplicates(subset=[\"accounting_as_of_date\", \"supplier_ticker\", \"customer_ticker\"], keep=\"first\", inplace=True)\n",
    "supplychain_updated"
   ]
  },
  {
   "cell_type": "code",
   "execution_count": null,
   "metadata": {
    "scrolled": true
   },
   "outputs": [],
   "source": [
    "# account_dates = supplychain_updated[\"accounting_as_of_date\"].values\n",
    "# for company in tqdm.tqdm(overlap_suppliers):\n",
    "#     for date in set(stock_market_updated[\"Date\"].unique()):\n",
    "# #             print(supplychain_updated.loc[(supplychain_updated['supplier_ticker'] == company) &\n",
    "# #                                    (supplychain_updated['accounting_as_of_date'] == date), \"revenue_dependency\"])\n",
    "#         stock_market_updated.loc[(stock_market_updated['ticker'] == company) &\n",
    "#                                (stock_market_updated['Date'] == date), \"revenue_dependency\"] = \\\n",
    "#         sum(supplychain_updated.loc[(supplychain_updated['supplier_ticker'] == company) &\n",
    "#                                (supplychain_updated['accounting_as_of_date'] == date), \"revenue_dependency\"])\n",
    "#     break\n",
    "\n",
    "supplychain_updated\n",
    "\n",
    "grouped_supplychain = supplychain_updated.groupby(['accounting_as_of_date', 'supplier_ticker'])\n",
    "\n",
    "revenue_sum = grouped_supplychain.agg({'revenue_dependency': 'sum'})\n",
    "\n",
    "joined_market_info = stock_market_updated.merge(revenue_sum, left_on=[\"Date\", \"ticker\"], right_on=[\"accounting_as_of_date\", \"supplier_ticker\"], how=\"left\").fillna(method=\"ffill\")\n",
    "\n",
    "joined_market_info\n",
    "            \n",
    "# joined_market_info = stock_market_updated.merge(supplychain_updated, left_on=[\"Date\", \"ticker\"], right_on=[\"accounting_as_of_date\", \"supplier_ticker\"])\n",
    "    \n",
    "# joined_market_info\n",
    "    \n",
    "    "
   ]
  },
  {
   "cell_type": "code",
   "execution_count": null,
   "metadata": {},
   "outputs": [],
   "source": [
    "stock_market_updated.loc[(stock_market_updated['ticker'] == companies[0]) &\n",
    "                               (stock_market_updated['Date'] == set(stock_market_updated[\"Date\"].unique())[0]), \"revenue_dependency\"]"
   ]
  },
  {
   "cell_type": "code",
   "execution_count": null,
   "metadata": {},
   "outputs": [],
   "source": [
    "[x for x in stock_market_updated[\"revenue_dependency\"].values if x > -1]"
   ]
  },
  {
   "cell_type": "code",
   "execution_count": null,
   "metadata": {},
   "outputs": [],
   "source": []
  },
  {
   "cell_type": "code",
   "execution_count": null,
   "metadata": {},
   "outputs": [],
   "source": []
  }
 ],
 "metadata": {
  "kernelspec": {
   "display_name": "Python 3",
   "language": "python",
   "name": "python3"
  },
  "language_info": {
   "codemirror_mode": {
    "name": "ipython",
    "version": 3
   },
   "file_extension": ".py",
   "mimetype": "text/x-python",
   "name": "python",
   "nbconvert_exporter": "python",
   "pygments_lexer": "ipython3",
   "version": "3.7.3"
  }
 },
 "nbformat": 4,
 "nbformat_minor": 2
}
